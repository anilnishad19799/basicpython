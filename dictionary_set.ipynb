{
 "cells": [
  {
   "cell_type": "code",
   "execution_count": 20,
   "metadata": {},
   "outputs": [
    {
     "name": "stdout",
     "output_type": "stream",
     "text": [
      "{'name': 'Alice', 'age': 22, 'grade': 'A'}\n",
      "Alice\n"
     ]
    }
   ],
   "source": [
    "student_info = {'name': 'Alice', 'age': 22, 'grade': 'A'}\n",
    "print(student_info)\n",
    "print(student_info['name'])"
   ]
  },
  {
   "cell_type": "code",
   "execution_count": 21,
   "metadata": {},
   "outputs": [
    {
     "name": "stdout",
     "output_type": "stream",
     "text": [
      "{'name': 'Alice', 'age': 22, 'grade': 'A', 'city': 'New York', 'marks': 95}\n"
     ]
    }
   ],
   "source": [
    "additional_info = {'city': 'New York', 'marks': 95}\n",
    "student_info.update(additional_info)\n",
    "print(student_info)"
   ]
  },
  {
   "cell_type": "code",
   "execution_count": 22,
   "metadata": {},
   "outputs": [
    {
     "name": "stdout",
     "output_type": "stream",
     "text": [
      "{'name': 'Alice', 'age': 22, 'grade': 'A', 'city': 'New York'}\n",
      "('marks', 95)\n"
     ]
    }
   ],
   "source": [
    "last_val = student_info.popitem()\n",
    "print(student_info)\n",
    "print(last_val) "
   ]
  },
  {
   "cell_type": "code",
   "execution_count": 23,
   "metadata": {},
   "outputs": [
    {
     "name": "stdout",
     "output_type": "stream",
     "text": [
      "True\n"
     ]
    }
   ],
   "source": [
    "is_age_present = 'age' in student_info \n",
    "print(is_age_present)"
   ]
  },
  {
   "cell_type": "code",
   "execution_count": 24,
   "metadata": {},
   "outputs": [
    {
     "name": "stdout",
     "output_type": "stream",
     "text": [
      "dict_keys(['name', 'age', 'grade', 'city'])\n",
      "dict_values(['Alice', 22, 'A', 'New York'])\n"
     ]
    }
   ],
   "source": [
    "print(student_info.keys())\n",
    "print(student_info.values())"
   ]
  },
  {
   "cell_type": "code",
   "execution_count": 25,
   "metadata": {},
   "outputs": [
    {
     "name": "stdout",
     "output_type": "stream",
     "text": [
      "('name', 'Alice')\n",
      "('age', 22)\n",
      "('grade', 'A')\n",
      "('city', 'New York')\n"
     ]
    }
   ],
   "source": [
    "for item in student_info.items():\n",
    "    print(item)"
   ]
  },
  {
   "cell_type": "code",
   "execution_count": 26,
   "metadata": {},
   "outputs": [
    {
     "name": "stdout",
     "output_type": "stream",
     "text": [
      "{'age': 22, 'city': 'New York', 'grade': 'A', 'name': 'Alice'}\n"
     ]
    }
   ],
   "source": [
    "sorted_dict = dict(sorted(student_info.items()))\n",
    "print(sorted_dict)"
   ]
  },
  {
   "cell_type": "code",
   "execution_count": 27,
   "metadata": {},
   "outputs": [
    {
     "name": "stdout",
     "output_type": "stream",
     "text": [
      "{'name': 'Alice', 'age': 22, 'grade': 'A', 'city': 'New York', 'lap': True}\n",
      "{'name': 'Alice', 'age': 22, 'grade': 'A', 'city': 'New York'}\n"
     ]
    }
   ],
   "source": [
    "duplicate = student_info.copy()\n",
    "duplicate['lap'] = True\n",
    "print(duplicate)\n",
    "print(student_info)"
   ]
  },
  {
   "cell_type": "code",
   "execution_count": null,
   "metadata": {},
   "outputs": [],
   "source": []
  },
  {
   "cell_type": "code",
   "execution_count": null,
   "metadata": {},
   "outputs": [],
   "source": [
    "personal_detail = {\"person1\":{\"name\":\"anil\", \"age\":20}, \"person2\":{\"name\":\"suraj\", \"age\":22}}"
   ]
  },
  {
   "cell_type": "code",
   "execution_count": 29,
   "metadata": {},
   "outputs": [
    {
     "data": {
      "text/plain": [
       "PendingDeprecationWarning({1: 1, 2: 4, 3: 9, 4: 16, 5: 25})"
      ]
     },
     "execution_count": 29,
     "metadata": {},
     "output_type": "execute_result"
    }
   ],
   "source": [
    "square_dict = {x: x**2 for x in range(1, 6)}\n",
    "print(square_dict)"
   ]
  },
  {
   "cell_type": "code",
   "execution_count": 32,
   "metadata": {},
   "outputs": [
    {
     "name": "stdout",
     "output_type": "stream",
     "text": [
      "{1: 1, 2: 4, 3: 9, 4: 16, 5: 25}\n"
     ]
    }
   ],
   "source": [
    "new_dict = {}\n",
    "for i in range(1,6):\n",
    "    new_dict.update({i:i**2})\n",
    "\n",
    "print(new_dict)"
   ]
  },
  {
   "cell_type": "code",
   "execution_count": 33,
   "metadata": {},
   "outputs": [
    {
     "name": "stdout",
     "output_type": "stream",
     "text": [
      "{'apple': 5, 'banana': 6, 'orange': 6}\n"
     ]
    }
   ],
   "source": [
    "words = ['apple', 'banana', 'orange']\n",
    "word_lengths = {word: len(word) for word in words}\n",
    "print(word_lengths)\n"
   ]
  },
  {
   "cell_type": "code",
   "execution_count": 36,
   "metadata": {},
   "outputs": [
    {
     "name": "stdout",
     "output_type": "stream",
     "text": [
      "{'name': 'dfds', 'age': 20}\n"
     ]
    }
   ],
   "source": [
    "new_dict = {\"name\":\"anil\", \"age\":20, \"name\":\"dfds\"}\n",
    "# word_lengths = {key: val for key,val in new_dict.items()}\n",
    "print(new_dict)\n"
   ]
  },
  {
   "cell_type": "code",
   "execution_count": null,
   "metadata": {},
   "outputs": [],
   "source": [
    "for key,val in new_dict.items():\n",
    "    if val > 5000:\n",
    "        print(key)"
   ]
  },
  {
   "cell_type": "code",
   "execution_count": 39,
   "metadata": {},
   "outputs": [
    {
     "name": "stdout",
     "output_type": "stream",
     "text": [
      "{'orange', 'apple', 'banana'}\n"
     ]
    }
   ],
   "source": [
    "fruits_set = set(['apple', 'banana', 'orange', 'apple'])\n",
    "print(fruits_set)"
   ]
  },
  {
   "cell_type": "code",
   "execution_count": 52,
   "metadata": {},
   "outputs": [
    {
     "name": "stdout",
     "output_type": "stream",
     "text": [
      "{0, 1, 2, 3, 4, 5, 6, 7, 9}\n",
      "{1, 2, 3, 4, 5, 6, 7}\n"
     ]
    }
   ],
   "source": [
    "my_set = {0,1, 2, 3, 4, 5}\n",
    "\n",
    "set_to_update = {5, 6, 7}\n",
    "my_set.update(set_to_update)\n",
    "my_set.add(9)\n",
    "print(my_set)\n",
    "my_set.pop()\n",
    "my_set.remove(9)\n",
    "print(my_set)"
   ]
  }
 ],
 "metadata": {
  "kernelspec": {
   "display_name": "Python 3",
   "language": "python",
   "name": "python3"
  },
  "language_info": {
   "codemirror_mode": {
    "name": "ipython",
    "version": 3
   },
   "file_extension": ".py",
   "mimetype": "text/x-python",
   "name": "python",
   "nbconvert_exporter": "python",
   "pygments_lexer": "ipython3",
   "version": "3.12.6"
  }
 },
 "nbformat": 4,
 "nbformat_minor": 2
}
