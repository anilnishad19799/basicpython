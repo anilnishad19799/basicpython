{
 "cells": [
  {
   "cell_type": "code",
   "execution_count": null,
   "metadata": {},
   "outputs": [],
   "source": [
    "a = [1,2,3,4]\n",
    "\n",
    "a = [\n",
    "    [1,2,3],\n",
    "    [4,5,6],\n",
    "    [7,8,9]\n",
    "    ]\n",
    "\n",
    "a[0][1]"
   ]
  },
  {
   "cell_type": "code",
   "execution_count": 2,
   "metadata": {},
   "outputs": [],
   "source": [
    "import numpy as np"
   ]
  },
  {
   "cell_type": "code",
   "execution_count": 5,
   "metadata": {},
   "outputs": [
    {
     "name": "stdout",
     "output_type": "stream",
     "text": [
      "[1, 2, 3, 4] <class 'list'>\n"
     ]
    }
   ],
   "source": [
    "a = [1,2,3,4]\n",
    "print(a, type(a))"
   ]
  },
  {
   "cell_type": "code",
   "execution_count": 4,
   "metadata": {},
   "outputs": [
    {
     "name": "stdout",
     "output_type": "stream",
     "text": [
      "[1 2 3 4 5] <class 'numpy.ndarray'>\n"
     ]
    }
   ],
   "source": [
    "arr = np.array([1, 2, 3, 4, 5])\n",
    "print(arr, type(arr))"
   ]
  },
  {
   "cell_type": "code",
   "execution_count": 7,
   "metadata": {},
   "outputs": [
    {
     "name": "stdout",
     "output_type": "stream",
     "text": [
      "[[0. 0. 0.]\n",
      " [0. 0. 0.]\n",
      " [0. 0. 0.]]\n"
     ]
    }
   ],
   "source": [
    "zerosarr = np.zeros((3,3))\n",
    "print(zerosarr)"
   ]
  },
  {
   "cell_type": "code",
   "execution_count": 8,
   "metadata": {},
   "outputs": [
    {
     "name": "stdout",
     "output_type": "stream",
     "text": [
      "[[1. 1. 1.]\n",
      " [1. 1. 1.]\n",
      " [1. 1. 1.]]\n"
     ]
    }
   ],
   "source": [
    "zerosarr = np.ones((3,3))\n",
    "print(zerosarr)"
   ]
  },
  {
   "cell_type": "code",
   "execution_count": 10,
   "metadata": {},
   "outputs": [
    {
     "name": "stdout",
     "output_type": "stream",
     "text": [
      "[[0.46381747 0.88050493 0.70040944 0.46778649 0.8327479 ]\n",
      " [0.11912402 0.61998793 0.29564553 0.50645727 0.76616188]\n",
      " [0.87711603 0.05044106 0.61781001 0.18925493 0.18806888]\n",
      " [0.99915455 0.02489039 0.01549533 0.49311112 0.83795028]\n",
      " [0.80004202 0.3434729  0.51594874 0.61472797 0.48065505]]\n"
     ]
    }
   ],
   "source": [
    "rand_arr = np.random.rand(5, 5) \n",
    "print(rand_arr)"
   ]
  },
  {
   "cell_type": "code",
   "execution_count": 24,
   "metadata": {},
   "outputs": [
    {
     "ename": "IndexError",
     "evalue": "list index out of range",
     "output_type": "error",
     "traceback": [
      "\u001b[1;31m---------------------------------------------------------------------------\u001b[0m",
      "\u001b[1;31mIndexError\u001b[0m                                Traceback (most recent call last)",
      "Cell \u001b[1;32mIn[24], line 6\u001b[0m\n\u001b[0;32m      1\u001b[0m a \u001b[38;5;241m=\u001b[39m [[[\u001b[38;5;241m1\u001b[39m,\u001b[38;5;241m2\u001b[39m,\u001b[38;5;241m3\u001b[39m],\n\u001b[0;32m      2\u001b[0m     [\u001b[38;5;241m4\u001b[39m,\u001b[38;5;241m5\u001b[39m,\u001b[38;5;241m6\u001b[39m],\n\u001b[0;32m      3\u001b[0m     [\u001b[38;5;241m7\u001b[39m,\u001b[38;5;241m8\u001b[39m,\u001b[38;5;241m9\u001b[39m]],\n\u001b[0;32m      4\u001b[0m     ]\n\u001b[1;32m----> 6\u001b[0m \u001b[43ma\u001b[49m\u001b[43m[\u001b[49m\u001b[38;5;241;43m1\u001b[39;49m\u001b[43m]\u001b[49m[\u001b[38;5;241m1\u001b[39m][\u001b[38;5;241m0\u001b[39m]\n",
      "\u001b[1;31mIndexError\u001b[0m: list index out of range"
     ]
    }
   ],
   "source": [
    "a = [[[1,2,3],\n",
    "    [4,5,6],\n",
    "    [7,8,9]],\n",
    "    ]\n",
    "\n",
    "a[1][1][0]"
   ]
  },
  {
   "cell_type": "code",
   "execution_count": 14,
   "metadata": {},
   "outputs": [
    {
     "name": "stdout",
     "output_type": "stream",
     "text": [
      "[1 2 3 4]\n",
      "(4,)\n"
     ]
    }
   ],
   "source": [
    "arr = np.array([1,2,3,4])\n",
    "print(arr)\n",
    "print(arr.shape)"
   ]
  },
  {
   "cell_type": "code",
   "execution_count": 30,
   "metadata": {},
   "outputs": [
    {
     "name": "stdout",
     "output_type": "stream",
     "text": [
      "[1, 2, 3]\n",
      "[4, 5, 6]\n",
      "[7, 8, 9]\n"
     ]
    },
    {
     "data": {
      "text/plain": [
       "4"
      ]
     },
     "execution_count": 30,
     "metadata": {},
     "output_type": "execute_result"
    }
   ],
   "source": [
    "# [1,2,3,4]\n",
    "a = [[1,2,3],[4,5,6],[7,8,9]]\n",
    "print(a[0])\n",
    "print(a[1])\n",
    "print(a[2])\n",
    "a[1][0]"
   ]
  },
  {
   "cell_type": "code",
   "execution_count": 42,
   "metadata": {},
   "outputs": [
    {
     "name": "stdout",
     "output_type": "stream",
     "text": [
      "[[1 2 3 4 5 6]]\n",
      "(1, 6)\n"
     ]
    }
   ],
   "source": [
    "arr = np.array([1,2,3,4,5,6], ndmin=2)\n",
    "print(arr)\n",
    "# print\n",
    "print(arr.shape)\n",
    "# print(arr[0])\n",
    "# print(arr[0][0])\n",
    "\n"
   ]
  },
  {
   "cell_type": "code",
   "execution_count": 47,
   "metadata": {},
   "outputs": [
    {
     "name": "stdout",
     "output_type": "stream",
     "text": [
      "[[1 2]\n",
      " [3 4]\n",
      " [5 6]]\n",
      "<class 'numpy.ndarray'>\n",
      "(1, 6)\n",
      "2\n"
     ]
    }
   ],
   "source": [
    "print(arr.reshape((3,2)))  \n",
    "print(type(arr))  \n",
    "print(arr.shape)  \n",
    "print(arr.ndim)  "
   ]
  },
  {
   "cell_type": "code",
   "execution_count": 56,
   "metadata": {},
   "outputs": [
    {
     "name": "stdout",
     "output_type": "stream",
     "text": [
      "['1' '2' '3' '4' 'str'] <class 'numpy.str_'>\n"
     ]
    }
   ],
   "source": [
    "arr = np.array([1,2,3,4, 'str'])  \n",
    "print(arr, type(arr[0]))"
   ]
  },
  {
   "cell_type": "code",
   "execution_count": 60,
   "metadata": {},
   "outputs": [
    {
     "data": {
      "text/plain": [
       "[1, 2, 3, 4, 5, 6, 7]"
      ]
     },
     "execution_count": 60,
     "metadata": {},
     "output_type": "execute_result"
    }
   ],
   "source": [
    "a = [1,2,3,4,5,6,7]\n",
    "a[:]"
   ]
  },
  {
   "cell_type": "code",
   "execution_count": null,
   "metadata": {},
   "outputs": [],
   "source": [
    "element = arr[0, 1]  # Accessing the element at the first row and second column\n",
    "# slice_ro# Slicing\n",
    "w = arr[1, :]  # Slicing the second row\n",
    "# slice_column = arr[:, 2]  "
   ]
  },
  {
   "cell_type": "code",
   "execution_count": 61,
   "metadata": {},
   "outputs": [
    {
     "name": "stdout",
     "output_type": "stream",
     "text": [
      "[[1 2 3]\n",
      " [4 5 6]]\n"
     ]
    }
   ],
   "source": [
    "arr = np.array([1,2,3,4,5,6], ndmin=2)\n",
    "reahape = arr.reshape(2,3)\n",
    "print(reahape)"
   ]
  },
  {
   "cell_type": "code",
   "execution_count": 70,
   "metadata": {},
   "outputs": [
    {
     "name": "stdout",
     "output_type": "stream",
     "text": [
      "[6]\n"
     ]
    }
   ],
   "source": [
    "slice = reahape[1:,2]\n",
    "print(slice)"
   ]
  },
  {
   "cell_type": "code",
   "execution_count": 75,
   "metadata": {},
   "outputs": [
    {
     "name": "stdout",
     "output_type": "stream",
     "text": [
      "[[False False False False False False False False  True  True]]\n",
      "[ 9 10]\n"
     ]
    }
   ],
   "source": [
    "arr = np.array([1,2,3,4,5,6,7,8,9,10], ndmin=2)\n",
    "out = arr > 8\n",
    "out2 = arr[out]\n",
    "print(out)\n",
    "print(out2)"
   ]
  },
  {
   "cell_type": "code",
   "execution_count": null,
   "metadata": {},
   "outputs": [],
   "source": [
    "arr[arr>150] = 255\n",
    "arr[arr<150] = 0"
   ]
  },
  {
   "cell_type": "code",
   "execution_count": 76,
   "metadata": {},
   "outputs": [
    {
     "name": "stdout",
     "output_type": "stream",
     "text": [
      "[[2 3]\n",
      " [6 7]]\n"
     ]
    }
   ],
   "source": [
    "a = np.array([[1,2,3,4], [5,6,7,8], [9,10,11,12]])\n",
    "b = a[:2, 1:3]\n",
    "print(b)"
   ]
  },
  {
   "cell_type": "code",
   "execution_count": 78,
   "metadata": {},
   "outputs": [
    {
     "name": "stdout",
     "output_type": "stream",
     "text": [
      "[[2 3]\n",
      " [6 7]]\n",
      "[[77  3]\n",
      " [ 6  7]]\n"
     ]
    }
   ],
   "source": [
    "print(b)\n",
    "b[0,0] = 77\n",
    "print(b)"
   ]
  },
  {
   "cell_type": "code",
   "execution_count": null,
   "metadata": {},
   "outputs": [],
   "source": [
    "print(a[0, 1])   # Prints \"2\"\n",
    "b[0, 0] = 77     # b[0, 0] is the same piece of data as a[0, 1]\n",
    "print(a[0, 1])   "
   ]
  },
  {
   "cell_type": "code",
   "execution_count": 80,
   "metadata": {},
   "outputs": [
    {
     "data": {
      "text/plain": [
       "[1, 2, 3, 4, 5, 6]"
      ]
     },
     "execution_count": 80,
     "metadata": {},
     "output_type": "execute_result"
    }
   ],
   "source": [
    "a = [1,2,3]\n",
    "b= [4,5,6]\n",
    "a+b"
   ]
  },
  {
   "cell_type": "code",
   "execution_count": 79,
   "metadata": {},
   "outputs": [
    {
     "name": "stdout",
     "output_type": "stream",
     "text": [
      "[5 7 9]\n"
     ]
    }
   ],
   "source": [
    "arr1 = np.array([1, 2, 3])\n",
    "arr2 = np.array([4, 5, 6])\n",
    "addition = arr1 + arr2\n",
    "print(addition)"
   ]
  },
  {
   "cell_type": "code",
   "execution_count": null,
   "metadata": {},
   "outputs": [],
   "source": [
    "\n",
    "\n",
    "1,2,3,4,5,6,7,8"
   ]
  },
  {
   "cell_type": "code",
   "execution_count": 87,
   "metadata": {},
   "outputs": [
    {
     "name": "stdout",
     "output_type": "stream",
     "text": [
      "5.25\n",
      "5.5\n",
      "[1.41421356 2.64575131 2.         1.73205081 2.23606798 2.44948974\n",
      " 2.64575131 2.82842712]\n"
     ]
    }
   ],
   "source": [
    "arr1 = np.array([2,7,4,3,5,6,7,8])\n",
    "\n",
    "print(np.mean(arr1))\n",
    "print(np.median(arr1))\n",
    "np.std(arr1)\n",
    "\n",
    "sqrt = np.sqrt(arr1)\n",
    "\n",
    "print(sqrt)"
   ]
  },
  {
   "cell_type": "code",
   "execution_count": 2,
   "metadata": {},
   "outputs": [],
   "source": [
    "import pandas as pd"
   ]
  },
  {
   "cell_type": "code",
   "execution_count": 89,
   "metadata": {},
   "outputs": [
    {
     "name": "stdout",
     "output_type": "stream",
     "text": [
      "0    10\n",
      "1    20\n",
      "2    30\n",
      "3    40\n",
      "4    50\n",
      "dtype: int64\n"
     ]
    }
   ],
   "source": [
    "data = [10, 20, 30, 40, 50]\n",
    "series_from_list = pd.Series(data)\n",
    "print(series_from_list)"
   ]
  },
  {
   "cell_type": "code",
   "execution_count": 92,
   "metadata": {},
   "outputs": [
    {
     "name": "stdout",
     "output_type": "stream",
     "text": [
      "A    10\n",
      "B    20\n",
      "C    30\n",
      "D    40\n",
      "E    50\n",
      "dtype: int64\n"
     ]
    }
   ],
   "source": [
    "custom_index = pd.Series(data, index=['A', 'B', 'C', 'D', 'E'])\n",
    "print(custom_index)"
   ]
  },
  {
   "cell_type": "code",
   "execution_count": 93,
   "metadata": {},
   "outputs": [
    {
     "name": "stdout",
     "output_type": "stream",
     "text": [
      "30\n",
      "20\n",
      "1    20\n",
      "2    30\n",
      "3    40\n",
      "dtype: int64\n"
     ]
    }
   ],
   "source": [
    "element_at_position_2 = series_from_list[2]\n",
    "print(element_at_position_2)\n",
    "\n",
    "element_with_label_B = custom_index['B']\n",
    "print(element_with_label_B)\n",
    "slice_series = series_from_list[1:4] # Returns elements at positions 1, 2, and 3\n",
    "print(slice_series)"
   ]
  },
  {
   "cell_type": "code",
   "execution_count": 5,
   "metadata": {},
   "outputs": [
    {
     "name": "stdout",
     "output_type": "stream",
     "text": [
      "0    25\n",
      "1    30\n",
      "2    35\n",
      "Name: Age, dtype: int64\n",
      "    Name  Age\n",
      "0  Alice   25\n",
      "Charlie\n"
     ]
    }
   ],
   "source": [
    "data = {'Name': ['Alice', 'Bob', 'Charlie'],\n",
    "     'Age': [25, 30, 35]}\n",
    "df_from_dict = pd.DataFrame(data)\n",
    "# print(df_from_dict)\n",
    "\n",
    "name_column = df_from_dict['Age']\n",
    "print(name_column)\n",
    "\n",
    "young_people = df_from_dict[df_from_dict['Age'] < 30]\n",
    "print(young_people)\n",
    "\n",
    "cell_value = df_from_dict.at[2, 'Name']\n",
    "print(cell_value)"
   ]
  },
  {
   "cell_type": "code",
   "execution_count": null,
   "metadata": {},
   "outputs": [],
   "source": [
    "pd.read_csv('data.xlsx')"
   ]
  },
  {
   "cell_type": "code",
   "execution_count": 9,
   "metadata": {},
   "outputs": [
    {
     "name": "stdout",
     "output_type": "stream",
     "text": [
      "     asdes  Age  sdfds  sdfds\n",
      "0    Alice   25   56.0   90.0\n",
      "1      Bob   30    NaN    NaN\n",
      "2  Charlie   35    NaN    NaN\n"
     ]
    }
   ],
   "source": [
    "data_list = [['Alice', 25,56, 90], ['Bob', 30], ['Charlie', 35]]\n",
    "df_from_list = pd.DataFrame(data_list, columns=['asdes', 'Age', \"sdfds\", 'sdfds'])\n",
    "print(df_from_list)"
   ]
  },
  {
   "cell_type": "code",
   "execution_count": 20,
   "metadata": {},
   "outputs": [
    {
     "name": "stdout",
     "output_type": "stream",
     "text": [
      "    Index      Customer Id First Name Last Name                Company  \\\n",
      "95     96  cb8E23e48d22Eae       Karl     Greer              Carey LLC   \n",
      "96     97  CeD220bdAaCfaDf       Lynn  Atkinson  Ware, Burns and Oneal   \n",
      "97     98  28CDbC0dFe4b1Db       Fred    Guerra          Schmitt-Jones   \n",
      "98     99  c23d1D9EE8DEB0A     Yvonne    Farmer     Fitzgerald-Harrell   \n",
      "99    100  2354a0E336A91A1   Clarence    Haynes     Le, Nash and Cross   \n",
      "\n",
      "               City          Country               Phone 1  \\\n",
      "95     East Richard           Guyana   (188)169-1674x58692   \n",
      "96     New Bradview        Sri Lanka       +1-846-706-2218   \n",
      "97       Ortegaland  Solomon Islands  +1-753-067-8419x7170   \n",
      "98  Lake Elijahview            Aruba         (530)311-9786   \n",
      "99        Judymouth         Honduras         (753)813-6941   \n",
      "\n",
      "                   Phone 2                           Email Subscription Date  \\\n",
      "95    001-841-293-3519x614                hhart@jensen.com        2022-01-30   \n",
      "96            605.413.3198               vkemp@ferrell.com        2021-07-10   \n",
      "97   +1-632-666-7507x92121                swagner@kane.org        2021-09-18   \n",
      "98  001-869-452-0943x12424  mccarthystephen@horn-green.biz        2021-08-11   \n",
      "99            783.639.1472          colleen91@faulkner.biz        2020-03-11   \n",
      "\n",
      "                              Website  \n",
      "95            http://hayes-perez.com/  \n",
      "96         https://novak-allison.com/  \n",
      "97              https://www.ross.com/  \n",
      "98               http://watkins.info/  \n",
      "99  http://www.hatfield-saunders.net/  \n"
     ]
    }
   ],
   "source": [
    "df_from_csv = pd.read_csv('C:/Users/X3/Downloads/BIA Lecture Material/numpy/data.csv')\n",
    "print(df_from_csv.tail(5))"
   ]
  },
  {
   "cell_type": "code",
   "execution_count": 26,
   "metadata": {},
   "outputs": [
    {
     "name": "stdout",
     "output_type": "stream",
     "text": [
      "                 name language                id  \\\n",
      "0       Adeel Solangi   Sindhi  V59OF92YF627HFY0   \n",
      "1       Afzal Ghaffar   Sindhi  ENTOCR13RSCLZ6KU   \n",
      "2       Aamir Solangi   Sindhi  IAKPO3R4761JDRVG   \n",
      "3       Abla Dilmurat   Uyghur  5ZVOEPMJUI4MB4EN   \n",
      "4            Adil Eli   Uyghur  6VTI8X6LL0MMPJCC   \n",
      "...               ...      ...               ...   \n",
      "15835   Bhupesh Menon    Hindi  0CEPNRDV98KT3ORP   \n",
      "15836    Rohini Vasav    Hindi  UEFML43TCGS04KWM   \n",
      "15837    Sunil Kapoor    Hindi  VY2A0APGVHK5NAW2   \n",
      "15838  Zamokuhle Zulu  isiZulu  XU7BX2F8M5PVZ1EF   \n",
      "15839   Bhupesh Menon    Hindi  0CEPNRDV98KT3ORP   \n",
      "\n",
      "                                                     bio  version  \n",
      "0      Donec lobortis eleifend condimentum. Cras dict...     6.10  \n",
      "1      Aliquam sollicitudin ante ligula, eget malesua...     1.88  \n",
      "2      Vestibulum pharetra libero et velit gravida eu...     7.27  \n",
      "3      Donec lobortis eleifend condimentum. Morbi ac ...     2.53  \n",
      "4      Vivamus id faucibus velit, id posuere leo. Mor...     6.49  \n",
      "...                                                  ...      ...  \n",
      "15835  Maecenas tempus neque ut porttitor malesuada. ...     2.69  \n",
      "15836  Ut accumsan, est vel fringilla varius, purus a...     9.30  \n",
      "15837  Proin tempus eu risus nec mattis. Ut dictum, l...     8.04  \n",
      "15838  Etiam congue dignissim volutpat. Phasellus tin...     8.39  \n",
      "15839  Maecenas tempus neque ut porttitor malesuada. ...     2.69  \n",
      "\n",
      "[15840 rows x 5 columns]\n"
     ]
    }
   ],
   "source": [
    "data_from_json = pd.read_json('C:/Users/X3/Downloads/BIA Lecture Material/numpy/data.json')\n",
    "print(data_from_json)"
   ]
  },
  {
   "cell_type": "code",
   "execution_count": null,
   "metadata": {},
   "outputs": [],
   "source": [
    "class Task:\n",
    "    def func1(set1,set2):\n",
    "        pass\n",
    "        # all work here\n",
    "        # xyz = set1.interf()set2\n",
    "        # return xyz \n",
    "        return\n",
    "    \n",
    "    def func2():\n",
    "        pass\n",
    "        return\n",
    "    \n",
    "    def func3():\n",
    "        pass\n",
    "        return\n",
    "    \n",
    "t1 = Task()\n",
    "paramter = \"sfsdf\"\n",
    "out = t1.func1(set1,set2)\n",
    "print(out)"
   ]
  },
  {
   "cell_type": "code",
   "execution_count": 27,
   "metadata": {},
   "outputs": [
    {
     "name": "stdout",
     "output_type": "stream",
     "text": [
      "Item: Apple, Quantity: 50, Price per item: 1\n",
      "Item: Banana, Quantity: 100, Price per item: 0.5\n",
      "Total Inventory Value: 100.0\n"
     ]
    }
   ],
   "source": [
    "\"\"\"Sample example to review\n",
    "\n",
    "Grocery Store Inventory System\n",
    "Create a simple inventory system for a grocery store.\n",
    "\n",
    "Requirements:\n",
    "\n",
    "Create a GroceryStore class to manage items in the store. It should:\n",
    "Add items to the inventory having name, quantity and price per item.\n",
    "Show available items and their details.\n",
    "Calculate the total value of the inventory.\n",
    "\n",
    "\"\"\"\n",
    "class GroceryStore:\n",
    "    def __init__(self):\n",
    "        self.inventory = {}\n",
    "\n",
    "    def add_item(self, name, quantity, price_per_item):\n",
    "        self.inventory[name] = (quantity, price_per_item)\n",
    "\n",
    "    def display_inventory(self):\n",
    "        for item, details in self.inventory.items():\n",
    "            print(f\"Item: {item}, Quantity: {details[0]}, Price per item: {details[1]}\")\n",
    "\n",
    "    def total_inventory_value(self):\n",
    "        total_value = sum(quantity * price for quantity, price in self.inventory.values())\n",
    "        return total_value\n",
    "\n",
    "# Example Usage\n",
    "store = GroceryStore()\n",
    "store.add_item(\"Apple\", 50, 1)\n",
    "store.add_item(\"Banana\", 100, 0.5)\n",
    "store.display_inventory()\n",
    "total_value = store.total_inventory_value()\n",
    "print(f\"Total Inventory Value: {total_value}\")\n",
    "\n"
   ]
  },
  {
   "cell_type": "code",
   "execution_count": null,
   "metadata": {},
   "outputs": [],
   "source": [
    "\"\"\"\n",
    "\n",
    "Task need to be completed\n",
    "\n",
    "** note -  make all function with suitable variablename, functionname, classname in structure format with proper indentation\n",
    "\n",
    "Task 10 :- \n",
    "\n",
    "Movie Collection Tracker\n",
    "Create a program that tracks your personal movie collection.\n",
    "\n",
    "Requirements:\n",
    "\n",
    "Create a MovieCollection class that:\n",
    "Adds movies to the list.\n",
    "Displays all movies.\n",
    "Searches for a movie by title if movie is in list then print movie found if not found then movie not found.\n",
    "\n",
    "\n",
    "\n",
    "\n",
    "\"\"\""
   ]
  }
 ],
 "metadata": {
  "kernelspec": {
   "display_name": "Python 3",
   "language": "python",
   "name": "python3"
  },
  "language_info": {
   "codemirror_mode": {
    "name": "ipython",
    "version": 3
   },
   "file_extension": ".py",
   "mimetype": "text/x-python",
   "name": "python",
   "nbconvert_exporter": "python",
   "pygments_lexer": "ipython3",
   "version": "3.12.6"
  }
 },
 "nbformat": 4,
 "nbformat_minor": 2
}
