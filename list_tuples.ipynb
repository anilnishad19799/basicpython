{
 "cells": [
  {
   "cell_type": "code",
   "execution_count": 1,
   "metadata": {},
   "outputs": [],
   "source": [
    "empty_list = []\n",
    "new_empty_list = list()\n"
   ]
  },
  {
   "cell_type": "code",
   "execution_count": 2,
   "metadata": {},
   "outputs": [
    {
     "name": "stdout",
     "output_type": "stream",
     "text": [
      "[1, 2, 3, 4]\n",
      "[1, 2, 6, 4]\n"
     ]
    },
    {
     "ename": "IndexError",
     "evalue": "list assignment index out of range",
     "output_type": "error",
     "traceback": [
      "\u001b[1;31m---------------------------------------------------------------------------\u001b[0m",
      "\u001b[1;31mIndexError\u001b[0m                                Traceback (most recent call last)",
      "Cell \u001b[1;32mIn[2], line 7\u001b[0m\n\u001b[0;32m      4\u001b[0m new_list[\u001b[38;5;241m2\u001b[39m] \u001b[38;5;241m=\u001b[39m \u001b[38;5;241m6\u001b[39m\n\u001b[0;32m      5\u001b[0m \u001b[38;5;28mprint\u001b[39m(new_list)\n\u001b[1;32m----> 7\u001b[0m \u001b[43mnew_list\u001b[49m\u001b[43m[\u001b[49m\u001b[38;5;241;43m7\u001b[39;49m\u001b[43m]\u001b[49m \u001b[38;5;241m=\u001b[39m \u001b[38;5;241m8\u001b[39m\n\u001b[0;32m      8\u001b[0m \u001b[38;5;28mprint\u001b[39m(new_list)\n",
      "\u001b[1;31mIndexError\u001b[0m: list assignment index out of range"
     ]
    }
   ],
   "source": [
    "new_list = [1,2,3,4]\n",
    "print(new_list)\n",
    "\n",
    "new_list[2] = 6\n",
    "print(new_list)\n",
    "\n",
    "new_list[7] = 8\n",
    "print(new_list)"
   ]
  },
  {
   "cell_type": "markdown",
   "metadata": {},
   "source": [
    "#### this is demo of list"
   ]
  },
  {
   "cell_type": "code",
   "execution_count": 4,
   "metadata": {},
   "outputs": [
    {
     "name": "stdout",
     "output_type": "stream",
     "text": [
      "4\n",
      "6\n"
     ]
    }
   ],
   "source": [
    "mixed_list = [1, 'two', 3.0, [4, 5], [9,8,7,6,5,4]]\n",
    "print(mixed_list[3][0])\n",
    "print(mixed_list[4][3])"
   ]
  },
  {
   "cell_type": "code",
   "execution_count": 8,
   "metadata": {},
   "outputs": [
    {
     "name": "stdout",
     "output_type": "stream",
     "text": [
      "[1, 2, 3, 4]\n",
      "[1, 2, 5, 4]\n"
     ]
    }
   ],
   "source": [
    "a = [1,2,3,4]\n",
    "b = a.copy()\n",
    "b[2] = 5\n",
    "print(a)\n",
    "print(b)"
   ]
  },
  {
   "cell_type": "code",
   "execution_count": 11,
   "metadata": {},
   "outputs": [
    {
     "name": "stdout",
     "output_type": "stream",
     "text": [
      "[2, 4, 6]\n"
     ]
    }
   ],
   "source": [
    "a = [1,2,3,4,5,6]\n",
    "b = a[1:6:2]\n",
    "print(b)"
   ]
  },
  {
   "cell_type": "code",
   "execution_count": 12,
   "metadata": {},
   "outputs": [
    {
     "name": "stdout",
     "output_type": "stream",
     "text": [
      "[0, 1, 2, 3, 4, 5, 6, 7, 8, 9]\n"
     ]
    }
   ],
   "source": [
    "numbers = [0, 1, 2, 3, 4, 5, 6, 7, 8, 9]\n",
    "all_elements = numbers[:]\n",
    "print(all_elements)"
   ]
  },
  {
   "cell_type": "code",
   "execution_count": 14,
   "metadata": {},
   "outputs": [
    {
     "name": "stdout",
     "output_type": "stream",
     "text": [
      "[0, 2, 4, 6, 8]\n",
      "[0, 2, 4, 6, 8]\n"
     ]
    }
   ],
   "source": [
    "iterable = [0,1,2,3,4,5,6,7,8,9]\n",
    "\n",
    "list1 = []\n",
    "for item in iterable:\n",
    "    if item%2==0:\n",
    "        list1.append(item)\n",
    "print(list1)\n",
    "\n",
    "new_list = [item for item in iterable if item%2==0]\n",
    "print(new_list)"
   ]
  },
  {
   "cell_type": "code",
   "execution_count": 18,
   "metadata": {},
   "outputs": [
    {
     "name": "stdout",
     "output_type": "stream",
     "text": [
      "0\n",
      "1\n",
      "4\n",
      "9\n",
      "16\n"
     ]
    }
   ],
   "source": [
    "for i in range(5):\n",
    "    print(i**2)"
   ]
  },
  {
   "cell_type": "code",
   "execution_count": 19,
   "metadata": {},
   "outputs": [
    {
     "name": "stdout",
     "output_type": "stream",
     "text": [
      "0\n",
      "1\n",
      "4\n",
      "27\n",
      "16\n",
      "125\n",
      "[0, 1, 4, 27, 16, 125]\n"
     ]
    }
   ],
   "source": [
    "for x in range(6):\n",
    "    if x%2==0:\n",
    "        print(x**2)\n",
    "    else:\n",
    "        print(x**3)\n",
    "\n",
    "even_squared = [x**2 if x % 2 == 0 else x**3 for x in range(6)]\n",
    "print(even_squared)"
   ]
  },
  {
   "cell_type": "code",
   "execution_count": 39,
   "metadata": {},
   "outputs": [
    {
     "name": "stdout",
     "output_type": "stream",
     "text": [
      "[1, 16, 49]\n"
     ]
    }
   ],
   "source": [
    "nested_matrix = [[1, 2, 3], [4, 5, 6], [7, 8, 9]]\n",
    "list1 = []\n",
    "for row in nested_matrix:\n",
    "    if any(x % 2 == 0 for x in row):\n",
    "        # print(x)\n",
    "        list1.append(row[0]**2)\n",
    "\n",
    "print(list1)"
   ]
  },
  {
   "cell_type": "code",
   "execution_count": 35,
   "metadata": {},
   "outputs": [
    {
     "data": {
      "text/plain": [
       "True"
      ]
     },
     "execution_count": 35,
     "metadata": {},
     "output_type": "execute_result"
    }
   ],
   "source": [
    "any([False, False,True])"
   ]
  },
  {
   "cell_type": "code",
   "execution_count": 38,
   "metadata": {},
   "outputs": [
    {
     "name": "stdout",
     "output_type": "stream",
     "text": [
      "[1, 16, 49]\n"
     ]
    }
   ],
   "source": [
    "nested_matrix = [[1, 2, 3], [4, 5, 6], [7, 8, 9]]\n",
    "filtered_squared = [row[0]**2 for row in nested_matrix if any(y % 2 == 0 for y in row)]\n",
    "\n",
    "print(filtered_squared)"
   ]
  },
  {
   "cell_type": "code",
   "execution_count": null,
   "metadata": {},
   "outputs": [],
   "source": [
    "matrix = [[1, 2, 3], [4, 5, 6], [7, 8, 9]]\n",
    "list1 = []\n",
    "for row in matrix:\n",
    "    for num in row:\n",
    "        list1.append(num)\n",
    "print(list1)\n",
    "\n",
    "flattened = [num for row in matrix for num in row]\n"
   ]
  },
  {
   "cell_type": "code",
   "execution_count": null,
   "metadata": {},
   "outputs": [],
   "source": [
    "def square_if_even(x):\n",
    "    return x**2 if x % 2 == 0 else x\n",
    "\n",
    "list1 = []\n",
    "for x in range(8):\n",
    "    output = square_if_even(x)\n",
    "    list1.append(output)\n",
    "print(list1)\n",
    "\n",
    "squared_list = [square_if_even(x) for x in range(8)]\n"
   ]
  },
  {
   "cell_type": "code",
   "execution_count": 40,
   "metadata": {},
   "outputs": [
    {
     "name": "stdout",
     "output_type": "stream",
     "text": [
      "(1, 2, 3, 4, 5)\n"
     ]
    }
   ],
   "source": [
    "original_tuple = (1, 2, 3)\n",
    "new_tuple = original_tuple + (4, 5)\n",
    "print(new_tuple)"
   ]
  },
  {
   "cell_type": "code",
   "execution_count": 43,
   "metadata": {},
   "outputs": [
    {
     "name": "stdout",
     "output_type": "stream",
     "text": [
      "1 2 3\n",
      "1\n"
     ]
    }
   ],
   "source": [
    "a = 1,2,3\n",
    "c,d,e = a\n",
    "print(c,d,e)\n",
    "\n",
    "\n",
    "a,b,c = 1,2,3\n",
    "print(a)"
   ]
  },
  {
   "cell_type": "code",
   "execution_count": 45,
   "metadata": {},
   "outputs": [
    {
     "name": "stdout",
     "output_type": "stream",
     "text": [
      "[1, 2, 3]\n"
     ]
    }
   ],
   "source": [
    "a = (1,2,3)\n",
    "b = list(a)\n",
    "print(b)"
   ]
  },
  {
   "cell_type": "code",
   "execution_count": null,
   "metadata": {},
   "outputs": [],
   "source": [
    "def hall_room():\n",
    "        pass\n",
    "hall_room()\n"
   ]
  },
  {
   "cell_type": "code",
   "execution_count": 50,
   "metadata": {},
   "outputs": [
    {
     "name": "stdout",
     "output_type": "stream",
     "text": [
      "utensil\n",
      "load model\n"
     ]
    }
   ],
   "source": [
    "class House:\n",
    "\n",
    "    def __init__(self):\n",
    "        # pass\n",
    "        # print(\"constrcutor called\")\n",
    "        self.model = \"load model\"\n",
    "\n",
    "    def kitchen(self, item):\n",
    "        print(item)\n",
    "        print(self.model)\n",
    "\n",
    "    def bed_room(self):\n",
    "        pass\n",
    "\n",
    "    def hall_room(self):\n",
    "        pass\n",
    "\n",
    "\n",
    "house_obj = House()\n",
    "item = \"utensil\"\n",
    "house_obj.kitchen(item)"
   ]
  }
 ],
 "metadata": {
  "kernelspec": {
   "display_name": "Python 3",
   "language": "python",
   "name": "python3"
  },
  "language_info": {
   "codemirror_mode": {
    "name": "ipython",
    "version": 3
   },
   "file_extension": ".py",
   "mimetype": "text/x-python",
   "name": "python",
   "nbconvert_exporter": "python",
   "pygments_lexer": "ipython3",
   "version": "3.12.6"
  }
 },
 "nbformat": 4,
 "nbformat_minor": 2
}
